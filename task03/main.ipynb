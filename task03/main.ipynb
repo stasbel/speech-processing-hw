{
 "cells": [
  {
   "cell_type": "code",
   "execution_count": 1,
   "metadata": {},
   "outputs": [],
   "source": [
    "from keras.utils import get_file\n",
    "from sklearn.datasets.lfw import Bunch"
   ]
  },
  {
   "cell_type": "code",
   "execution_count": null,
   "metadata": {},
   "outputs": [],
   "source": [
    "args = Bunch()"
   ]
  },
  {
   "cell_type": "code",
   "execution_count": 2,
   "metadata": {},
   "outputs": [],
   "source": [
    "DATA_FNAME = 'VCTK-Corpus.tar.gz'\n",
    "DATA_URL = f'http://homepages.inf.ed.ac.uk/jyamagis/release/{DATA_FNAME}'"
   ]
  },
  {
   "cell_type": "code",
   "execution_count": 3,
   "metadata": {},
   "outputs": [
    {
     "name": "stdout",
     "output_type": "stream",
     "text": [
      "Downloading data from http://homepages.inf.ed.ac.uk/jyamagis/release/VCTK-Corpus.tar.gz\n",
      "11159470080/11159466829 [==============================] - 4770s 0us/step\n"
     ]
    },
    {
     "data": {
      "text/plain": [
       "'/home/s_belyaev/.keras/datasets/VCTK-Corpus.tar.gz'"
      ]
     },
     "execution_count": 3,
     "metadata": {},
     "output_type": "execute_result"
    }
   ],
   "source": [
    "get_file(DATA_FNAME, DATA_URL, extract=True)"
   ]
  },
  {
   "cell_type": "code",
   "execution_count": 13,
   "metadata": {},
   "outputs": [
    {
     "name": "stdout",
     "output_type": "stream",
     "text": [
      "ID  AGE  GENDER  ACCENTS  REGION  \r\n",
      "225  23  F    English    Southern  England\r\n",
      "226  22  M    English    Surrey\r\n",
      "227  38  M    English    Cumbria\r\n",
      "228  22  F    English    Southern  England\r\n",
      "229  23  F    English    Southern  England\r\n",
      "230  22  F    English    Stockton-on-tees\r\n",
      "231  23  F    English    Southern  England\r\n",
      "232  23  M    English    Southern  England\r\n",
      "233  23  F    English    Staffordshire\r\n",
      "234  22  F    Scottish  West  Dumfries\r\n",
      "236  23  F    English    Manchester\r\n",
      "237  22  M    Scottish  Fife\r\n",
      "238  22  F    NorthernIrish  Belfast\r\n",
      "239  22  F    English    SW  England\r\n",
      "240  21  F    English    Southern  England\r\n",
      "241  21  M    Scottish  Perth\r\n",
      "243  22  M    English    London\r\n",
      "244  22  F    English    Manchester\r\n",
      "245  25  M    Irish  Dublin\r\n",
      "246  22  M    Scottish  Selkirk\r\n",
      "247  22  M    Scottish  Argyll\r\n",
      "248  23  F    Indian  \r\n",
      "249  22  F    Scottish  Aberdeen\r\n",
      "250  22  F    English    SE  England\r\n",
      "251  26  M    Indian  \r\n",
      "252  22  M    Scottish  Edinburgh\r\n",
      "253  22  F    Welsh  Cardiff\r\n",
      "254  21  M    English    Surrey\r\n",
      "255  19  M    Scottish  Galloway\r\n",
      "256  24  M    English    Birmingham\r\n",
      "257  24  F    English    Southern  England\r\n",
      "258  22  M    English    Southern  England\r\n",
      "259  23  M    English    Nottingham\r\n",
      "260  21  M    Scottish  Orkney\r\n",
      "261  26  F    NorthernIrish  Belfast\r\n",
      "262  23  F    Scottish  Edinburgh\r\n",
      "263  22  M    Scottish  Aberdeen\r\n",
      "264  23  F    Scottish  West  Lothian\r\n",
      "265  23  F    Scottish  Ross\r\n",
      "266  22  F    Irish  Athlone\r\n",
      "267  23  F    English    Yorkshire\r\n",
      "268  23  F    English    Southern  England\r\n",
      "269  20  F    English    Newcastle\r\n",
      "270  21  M    English    Yorkshire\r\n",
      "271  19  M    Scottish  Fife\r\n",
      "272  23  M    Scottish  Edinburgh\r\n",
      "273  23  M    English    Suffolk\r\n",
      "274  22  M    English    Essex\r\n",
      "275  23  M    Scottish  Midlothian\r\n",
      "276  24  F    English    Oxford\r\n",
      "277  23  F    English    NE  England\r\n",
      "278  22  M    English    Cheshire\r\n",
      "279  23  M    English    Leicester\r\n",
      "281  29  M    Scottish  Edinburgh\r\n",
      "282  23  F    English    Newcastle\r\n",
      "283  24  F    Irish  Cork\r\n",
      "284  20  M    Scottish  Fife\r\n",
      "285  21  M    Scottish  Edinburgh\r\n",
      "286  23  M    English    Newcastle\r\n",
      "287  23  M    English    York\r\n",
      "288  22  F    Irish  Dublin\r\n",
      "292  23  M    NorthernIrish  Belfast\r\n",
      "293  22  F    NorthernIrish  Belfast\r\n",
      "294  33  F    American  San  Francisco\r\n",
      "295  23  F    Irish  Dublin\r\n",
      "297  20  F    American  New  York\r\n",
      "298  19  M    Irish  Tipperary\r\n",
      "299  25  F    American  California\r\n",
      "300  23  F    American  California\r\n",
      "301  23  F    American  North  Carolina\r\n",
      "302  20  M    Canadian  Montreal\r\n",
      "303  24  F    Canadian  Toronto\r\n",
      "304  22  M    NorthernIrish  Belfast\r\n",
      "305  19  F    American  Philadelphia\r\n",
      "306  21  F    American  New  York\r\n",
      "307  23  F    Canadian  Ontario\r\n",
      "308  18  F    American  Alabama\r\n",
      "310  21  F    American  Tennessee\r\n",
      "311  21  M    American  Iowa\r\n",
      "312  19  F    Canadian  Hamilton\r\n",
      "313  24  F    Irish  County  Down\r\n",
      "314  26  F    SouthAfrican  Cape  Town\r\n",
      "315  18  M    American  New  England\r\n",
      "316  20  M    Canadian  Alberta\r\n",
      "317  23  F    Canadian  Hamilton\r\n",
      "318  32  F    American  Napa\r\n",
      "323  19  F    SouthAfrican  Pretoria\r\n",
      "326  26  M    Australian  English  Sydney\r\n",
      "329  23  F    American  \r\n",
      "330  26  F    American  \r\n",
      "333  19  F    American  Indiana\r\n",
      "334  18  M    American  Chicago\r\n",
      "335  25  F    NewZealand  English    \r\n",
      "336  18  F    SouthAfrican  Johannesburg\r\n",
      "339  21  F    American  Pennsylvania\r\n",
      "340  18  F    Irish  Dublin\r\n",
      "341  26  F    American  Ohio\r\n",
      "343  27  F    Canadian  Alberta\r\n",
      "345  22  M    American  Florida\r\n",
      "347  26  M    SouthAfrican  Johannesburg\r\n",
      "351  21  F    NorthernIrish  Derry\r\n",
      "360  19  M    American  New  Jersey\r\n",
      "361  19  F    American  New  Jersey\r\n",
      "362  29  F    American  \r\n",
      "363  22  M    Canadian  Toronto\r\n",
      "364  23  M    Irish  Donegal\r\n",
      "374  28  M    Australian  English  \r\n",
      "376  22  M    Indian\r\n"
     ]
    }
   ],
   "source": [
    "cat /home/s_belyaev/.keras/datasets/VCTK-Corpus/speaker-info.txt"
   ]
  },
  {
   "cell_type": "markdown",
   "metadata": {},
   "source": [
    "https://distill.pub/2017/ctc/"
   ]
  }
 ],
 "metadata": {
  "kernelspec": {
   "display_name": "Python 3",
   "language": "python",
   "name": "python3"
  },
  "language_info": {
   "codemirror_mode": {
    "name": "ipython",
    "version": 3
   },
   "file_extension": ".py",
   "mimetype": "text/x-python",
   "name": "python",
   "nbconvert_exporter": "python",
   "pygments_lexer": "ipython3",
   "version": "3.6.4"
  }
 },
 "nbformat": 4,
 "nbformat_minor": 2
}
