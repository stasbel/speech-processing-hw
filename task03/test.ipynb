{
 "cells": [
  {
   "cell_type": "code",
   "execution_count": null,
   "metadata": {},
   "outputs": [],
   "source": [
    "!conda install pytorch-cpu torchvision -c pytorch\n",
    "!export CMAKE_PREFIX_PATH=\"$(dirname $(which conda))/../\"\n",
    "!conda install numpy pyyaml mkl mkl-include setuptools cmake cffi typing"
   ]
  },
  {
   "cell_type": "code",
   "execution_count": 1,
   "metadata": {},
   "outputs": [
    {
     "name": "stdout",
     "output_type": "stream",
     "text": [
      "Cloning into 'warp-ctc'...\n",
      "remote: Counting objects: 657, done.\u001b[K\n",
      "remote: Compressing objects: 100% (13/13), done.\u001b[K\n",
      "remote: Total 657 (delta 6), reused 18 (delta 6), pack-reused 636\u001b[K\n",
      "Receiving objects: 100% (657/657), 356.71 KiB | 0 bytes/s, done.\n",
      "Resolving deltas: 100% (323/323), done.\n",
      "CMake Error: The source directory \"/home/s_belyaev/speech-processing-hw\" does not appear to contain CMakeLists.txt.\n",
      "Specify --help for usage, or press the help button on the CMake GUI.\n",
      "make: *** No targets specified and no makefile found.  Stop.\n",
      "/bin/sh: 1: cd: can't cd to ../pytorch_binding\n",
      "python: can't open file 'setup.py': [Errno 2] No such file or directory\n"
     ]
    }
   ],
   "source": [
    "!git clone https://github.com/SeanNaren/warp-ctc.git\n",
    "!cd warp-ctc\n",
    "!mkdir build; cd build\n",
    "!cmake ..\n",
    "!make\n",
    "!export CUDA_HOME=\"/usr/local/cuda\"\n",
    "!cd ../pytorch_binding\n",
    "!python setup.py install\n",
    "!cd ..\n",
    "!cd .."
   ]
  }
 ],
 "metadata": {
  "kernelspec": {
   "display_name": "Python 3",
   "language": "python",
   "name": "python3"
  },
  "language_info": {
   "codemirror_mode": {
    "name": "ipython",
    "version": 3
   },
   "file_extension": ".py",
   "mimetype": "text/x-python",
   "name": "python",
   "nbconvert_exporter": "python",
   "pygments_lexer": "ipython3",
   "version": "3.6.4"
  }
 },
 "nbformat": 4,
 "nbformat_minor": 2
}
