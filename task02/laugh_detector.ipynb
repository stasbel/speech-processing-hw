{
 "cells": [
  {
   "cell_type": "markdown",
   "metadata": {},
   "source": [
    "# Laugh detector"
   ]
  },
  {
   "cell_type": "code",
   "execution_count": 1,
   "metadata": {},
   "outputs": [],
   "source": [
    "%%capture\n",
    "\n",
    "%matplotlib inline\n",
    "\n",
    "import os\n",
    "import random\n",
    "import numpy as np\n",
    "import pandas as pd\n",
    "import matplotlib.pyplot as plt\n",
    "\n",
    "from keras.models import Model\n",
    "from IPython.display import SVG\n",
    "from keras.utils import get_file\n",
    "from keras.utils import Sequence\n",
    "from sklearn.metrics import roc_curve, auc\n",
    "from features.sampler import SSPNetSampler\n",
    "from keras.utils.vis_utils import model_to_dot\n",
    "from sklearn.model_selection import train_test_split\n",
    "from keras.layers import Input, LSTM, Dense, TimeDistributed, concatenate"
   ]
  },
  {
   "cell_type": "markdown",
   "metadata": {},
   "source": [
    "## Data"
   ]
  },
  {
   "cell_type": "code",
   "execution_count": 2,
   "metadata": {},
   "outputs": [],
   "source": [
    "SSPNET_FNAME = 'vocalizationcorpus.zip'\n",
    "SSPNET_NOISY_FNAME = 'vocalizationcorpus_noisy.zip'\n",
    "SSPNET_URL = f'http://www.dcs.gla.ac.uk/~vincia/datavocalizations/{SSPNET_FNAME}'\n",
    "SSPNET_NOISY_URL = None\n",
    "IS_NOISY = False\n",
    "SSPNET_SAMPLE_PATH = 'sspnet_{}sample.hdf5'.format('noisy_' if IS_NOISY else '')\n",
    "RENEW_PREPROCESSING = False"
   ]
  },
  {
   "cell_type": "code",
   "execution_count": 3,
   "metadata": {},
   "outputs": [],
   "source": [
    "def prepare_data(noisy):\n",
    "    fname, url = (SSPNET_FNAME, SSPNET_URL) if not noisy else (SSPNET_NOISY_FNAME, SSPNET_NOISY_URL)\n",
    "    data_path = os.path.abspath(os.path.join(get_file(fname, url, extract=True), os.pardir))\n",
    "    sample_wav = random.choice(os.listdir(os.path.join(data_path, 'data')))\n",
    "    sample_wav_path = os.path.join(data_path, f'data/{sample_wav}')\n",
    "    return data_path, sample_wav_path"
   ]
  },
  {
   "cell_type": "code",
   "execution_count": 4,
   "metadata": {},
   "outputs": [
    {
     "name": "stdout",
     "output_type": "stream",
     "text": [
      "CPU times: user 11 s, sys: 2.29 s, total: 13.3 s\n",
      "Wall time: 19 s\n"
     ]
    },
    {
     "data": {
      "text/plain": [
       "('/home/s_belyaev/.keras/datasets',\n",
       " '/home/s_belyaev/.keras/datasets/data/S1589.wav')"
      ]
     },
     "execution_count": 4,
     "metadata": {},
     "output_type": "execute_result"
    }
   ],
   "source": [
    "%time data_path, sample_wav_path = prepare_data(IS_NOISY)\n",
    "data_path, sample_wav_path"
   ]
  },
  {
   "cell_type": "code",
   "execution_count": 5,
   "metadata": {},
   "outputs": [
    {
     "name": "stdout",
     "output_type": "stream",
     "text": [
      "Loading data...\n"
     ]
    },
    {
     "data": {
      "text/plain": [
       "(287175, 149)"
      ]
     },
     "execution_count": 5,
     "metadata": {},
     "output_type": "execute_result"
    }
   ],
   "source": [
    "sampler = SSPNetSampler(data_path)\n",
    "if os.path.exists(SSPNET_SAMPLE_PATH) and not RENEW_PREPROCESSING:\n",
    "    print(\"Loading data...\")\n",
    "    df = pd.read_hdf(SSPNET_SAMPLE_PATH)\n",
    "else:\n",
    "    print(\"Preprocessing data... This takes quite some time.\")\n",
    "    df = sampler.sample()\n",
    "    df.to_hdf(SSPNET_SAMPLE_PATH, 'df', mode='w', format='t', complevel=9)\n",
    "df.shape"
   ]
  },
  {
   "cell_type": "code",
   "execution_count": 6,
   "metadata": {},
   "outputs": [
    {
     "data": {
      "text/html": [
       "<div>\n",
       "<style scoped>\n",
       "    .dataframe tbody tr th:only-of-type {\n",
       "        vertical-align: middle;\n",
       "    }\n",
       "\n",
       "    .dataframe tbody tr th {\n",
       "        vertical-align: top;\n",
       "    }\n",
       "\n",
       "    .dataframe thead th {\n",
       "        text-align: right;\n",
       "    }\n",
       "</style>\n",
       "<table border=\"1\" class=\"dataframe\">\n",
       "  <thead>\n",
       "    <tr style=\"text-align: right;\">\n",
       "      <th></th>\n",
       "      <th></th>\n",
       "      <th>mfcc_0</th>\n",
       "      <th>mfcc_1</th>\n",
       "      <th>mfcc_2</th>\n",
       "      <th>mfcc_3</th>\n",
       "      <th>mfcc_4</th>\n",
       "      <th>mfcc_5</th>\n",
       "      <th>mfcc_6</th>\n",
       "      <th>mfcc_7</th>\n",
       "      <th>mfcc_8</th>\n",
       "      <th>mfcc_9</th>\n",
       "      <th>...</th>\n",
       "      <th>fbank_119</th>\n",
       "      <th>fbank_120</th>\n",
       "      <th>fbank_121</th>\n",
       "      <th>fbank_122</th>\n",
       "      <th>fbank_123</th>\n",
       "      <th>fbank_124</th>\n",
       "      <th>fbank_125</th>\n",
       "      <th>fbank_126</th>\n",
       "      <th>fbank_127</th>\n",
       "      <th>laugh</th>\n",
       "    </tr>\n",
       "    <tr>\n",
       "      <th>sname</th>\n",
       "      <th>frame</th>\n",
       "      <th></th>\n",
       "      <th></th>\n",
       "      <th></th>\n",
       "      <th></th>\n",
       "      <th></th>\n",
       "      <th></th>\n",
       "      <th></th>\n",
       "      <th></th>\n",
       "      <th></th>\n",
       "      <th></th>\n",
       "      <th></th>\n",
       "      <th></th>\n",
       "      <th></th>\n",
       "      <th></th>\n",
       "      <th></th>\n",
       "      <th></th>\n",
       "      <th></th>\n",
       "      <th></th>\n",
       "      <th></th>\n",
       "      <th></th>\n",
       "      <th></th>\n",
       "    </tr>\n",
       "  </thead>\n",
       "  <tbody>\n",
       "    <tr>\n",
       "      <th rowspan=\"5\" valign=\"top\">S0001</th>\n",
       "      <th>0</th>\n",
       "      <td>-373.153344</td>\n",
       "      <td>95.437358</td>\n",
       "      <td>-36.818135</td>\n",
       "      <td>79.920083</td>\n",
       "      <td>-54.271679</td>\n",
       "      <td>55.084835</td>\n",
       "      <td>-20.286583</td>\n",
       "      <td>8.164827</td>\n",
       "      <td>-2.757196</td>\n",
       "      <td>5.251594</td>\n",
       "      <td>...</td>\n",
       "      <td>7.278168e-07</td>\n",
       "      <td>6.589588e-07</td>\n",
       "      <td>6.040244e-07</td>\n",
       "      <td>5.593640e-07</td>\n",
       "      <td>5.235364e-07</td>\n",
       "      <td>4.957071e-07</td>\n",
       "      <td>4.744663e-07</td>\n",
       "      <td>4.597197e-07</td>\n",
       "      <td>4.506246e-07</td>\n",
       "      <td>0</td>\n",
       "    </tr>\n",
       "    <tr>\n",
       "      <th>1</th>\n",
       "      <td>-368.873474</td>\n",
       "      <td>91.749633</td>\n",
       "      <td>-39.974858</td>\n",
       "      <td>86.175749</td>\n",
       "      <td>-54.903850</td>\n",
       "      <td>51.001815</td>\n",
       "      <td>-15.739164</td>\n",
       "      <td>16.430699</td>\n",
       "      <td>0.200041</td>\n",
       "      <td>4.824776</td>\n",
       "      <td>...</td>\n",
       "      <td>1.367360e-06</td>\n",
       "      <td>1.253789e-06</td>\n",
       "      <td>1.164664e-06</td>\n",
       "      <td>1.092242e-06</td>\n",
       "      <td>1.033866e-06</td>\n",
       "      <td>9.883410e-07</td>\n",
       "      <td>9.533186e-07</td>\n",
       "      <td>9.289612e-07</td>\n",
       "      <td>9.137928e-07</td>\n",
       "      <td>0</td>\n",
       "    </tr>\n",
       "    <tr>\n",
       "      <th>2</th>\n",
       "      <td>-345.033844</td>\n",
       "      <td>82.671671</td>\n",
       "      <td>-50.393587</td>\n",
       "      <td>87.817926</td>\n",
       "      <td>-28.268000</td>\n",
       "      <td>35.189449</td>\n",
       "      <td>-32.786128</td>\n",
       "      <td>8.540034</td>\n",
       "      <td>5.724057</td>\n",
       "      <td>-5.437554</td>\n",
       "      <td>...</td>\n",
       "      <td>8.951212e-07</td>\n",
       "      <td>8.683028e-07</td>\n",
       "      <td>8.403387e-07</td>\n",
       "      <td>8.127290e-07</td>\n",
       "      <td>7.875098e-07</td>\n",
       "      <td>7.662990e-07</td>\n",
       "      <td>7.488896e-07</td>\n",
       "      <td>7.364185e-07</td>\n",
       "      <td>7.283180e-07</td>\n",
       "      <td>0</td>\n",
       "    </tr>\n",
       "    <tr>\n",
       "      <th>3</th>\n",
       "      <td>-363.373324</td>\n",
       "      <td>102.701456</td>\n",
       "      <td>-55.447781</td>\n",
       "      <td>84.630006</td>\n",
       "      <td>-45.017445</td>\n",
       "      <td>61.637147</td>\n",
       "      <td>-29.870310</td>\n",
       "      <td>4.005429</td>\n",
       "      <td>-3.113288</td>\n",
       "      <td>2.105346</td>\n",
       "      <td>...</td>\n",
       "      <td>1.137379e-07</td>\n",
       "      <td>1.179747e-07</td>\n",
       "      <td>1.201544e-07</td>\n",
       "      <td>1.208756e-07</td>\n",
       "      <td>1.207444e-07</td>\n",
       "      <td>1.202646e-07</td>\n",
       "      <td>1.195959e-07</td>\n",
       "      <td>1.190428e-07</td>\n",
       "      <td>1.185911e-07</td>\n",
       "      <td>0</td>\n",
       "    </tr>\n",
       "    <tr>\n",
       "      <th>4</th>\n",
       "      <td>-354.578753</td>\n",
       "      <td>93.754298</td>\n",
       "      <td>-51.155186</td>\n",
       "      <td>77.997912</td>\n",
       "      <td>-41.856521</td>\n",
       "      <td>55.107681</td>\n",
       "      <td>-23.394692</td>\n",
       "      <td>11.669452</td>\n",
       "      <td>3.903726</td>\n",
       "      <td>0.010206</td>\n",
       "      <td>...</td>\n",
       "      <td>1.142249e-06</td>\n",
       "      <td>1.012612e-06</td>\n",
       "      <td>9.149614e-07</td>\n",
       "      <td>8.388911e-07</td>\n",
       "      <td>7.796813e-07</td>\n",
       "      <td>7.346294e-07</td>\n",
       "      <td>7.007919e-07</td>\n",
       "      <td>6.775230e-07</td>\n",
       "      <td>6.632934e-07</td>\n",
       "      <td>0</td>\n",
       "    </tr>\n",
       "  </tbody>\n",
       "</table>\n",
       "<p>5 rows × 149 columns</p>\n",
       "</div>"
      ],
      "text/plain": [
       "                 mfcc_0      mfcc_1     mfcc_2     mfcc_3     mfcc_4  \\\n",
       "sname frame                                                            \n",
       "S0001 0     -373.153344   95.437358 -36.818135  79.920083 -54.271679   \n",
       "      1     -368.873474   91.749633 -39.974858  86.175749 -54.903850   \n",
       "      2     -345.033844   82.671671 -50.393587  87.817926 -28.268000   \n",
       "      3     -363.373324  102.701456 -55.447781  84.630006 -45.017445   \n",
       "      4     -354.578753   93.754298 -51.155186  77.997912 -41.856521   \n",
       "\n",
       "                mfcc_5     mfcc_6     mfcc_7    mfcc_8    mfcc_9  ...    \\\n",
       "sname frame                                                       ...     \n",
       "S0001 0      55.084835 -20.286583   8.164827 -2.757196  5.251594  ...     \n",
       "      1      51.001815 -15.739164  16.430699  0.200041  4.824776  ...     \n",
       "      2      35.189449 -32.786128   8.540034  5.724057 -5.437554  ...     \n",
       "      3      61.637147 -29.870310   4.005429 -3.113288  2.105346  ...     \n",
       "      4      55.107681 -23.394692  11.669452  3.903726  0.010206  ...     \n",
       "\n",
       "                fbank_119     fbank_120     fbank_121     fbank_122  \\\n",
       "sname frame                                                           \n",
       "S0001 0      7.278168e-07  6.589588e-07  6.040244e-07  5.593640e-07   \n",
       "      1      1.367360e-06  1.253789e-06  1.164664e-06  1.092242e-06   \n",
       "      2      8.951212e-07  8.683028e-07  8.403387e-07  8.127290e-07   \n",
       "      3      1.137379e-07  1.179747e-07  1.201544e-07  1.208756e-07   \n",
       "      4      1.142249e-06  1.012612e-06  9.149614e-07  8.388911e-07   \n",
       "\n",
       "                fbank_123     fbank_124     fbank_125     fbank_126  \\\n",
       "sname frame                                                           \n",
       "S0001 0      5.235364e-07  4.957071e-07  4.744663e-07  4.597197e-07   \n",
       "      1      1.033866e-06  9.883410e-07  9.533186e-07  9.289612e-07   \n",
       "      2      7.875098e-07  7.662990e-07  7.488896e-07  7.364185e-07   \n",
       "      3      1.207444e-07  1.202646e-07  1.195959e-07  1.190428e-07   \n",
       "      4      7.796813e-07  7.346294e-07  7.007919e-07  6.775230e-07   \n",
       "\n",
       "                fbank_127  laugh  \n",
       "sname frame                       \n",
       "S0001 0      4.506246e-07      0  \n",
       "      1      9.137928e-07      0  \n",
       "      2      7.283180e-07      0  \n",
       "      3      1.185911e-07      0  \n",
       "      4      6.632934e-07      0  \n",
       "\n",
       "[5 rows x 149 columns]"
      ]
     },
     "execution_count": 6,
     "metadata": {},
     "output_type": "execute_result"
    }
   ],
   "source": [
    "df.head()"
   ]
  },
  {
   "cell_type": "code",
   "execution_count": 7,
   "metadata": {},
   "outputs": [],
   "source": [
    "N_SNAMES = len(df.index.get_level_values(0).unique())\n",
    "N_FRAMES = len(df.index.get_level_values(1).unique())\n",
    "N_MFCC_FEATURES = df.columns.str.contains('mfcc').sum()\n",
    "N_FBANK_FEATURES = df.columns.str.contains('fbank').sum()"
   ]
  },
  {
   "cell_type": "markdown",
   "metadata": {},
   "source": [
    "## TT generator"
   ]
  },
  {
   "cell_type": "code",
   "execution_count": 8,
   "metadata": {},
   "outputs": [],
   "source": [
    "def mi_tt_split(df):\n",
    "    snames_train, snames_test = train_test_split(df.index.get_level_values(0).unique(), test_size=0.2)\n",
    "    return df.loc[snames_train.tolist()], df.loc[snames_test.tolist()]\n",
    "\n",
    "\n",
    "def np_prepare(df):\n",
    "    n_snames = len(df.index.get_level_values(0).unique())\n",
    "    X = df.drop('laugh', axis=1).as_matrix().reshape((n_snames, N_FRAMES, N_MFCC_FEATURES + N_FBANK_FEATURES))\n",
    "    X_mfcc, X_fbank = X[:, :, :N_MFCC_FEATURES], X[:, :, N_MFCC_FEATURES:]\n",
    "    y = np.expand_dims(df.laugh.as_matrix().reshape((n_snames, N_FRAMES)), 2)\n",
    "    return {'mfcc_input': X_mfcc, 'fbank_input': X_fbank}, {'mfcc_output': y, 'all_output': y}"
   ]
  },
  {
   "cell_type": "code",
   "execution_count": 9,
   "metadata": {},
   "outputs": [],
   "source": [
    "df_train, df_test = mi_tt_split(df)\n",
    "(X_train, y_train), (X_test, y_test) = np_prepare(df_train), np_prepare(df_test)\n",
    "y_test = y_test['all_output']"
   ]
  },
  {
   "cell_type": "markdown",
   "metadata": {},
   "source": [
    "## Model"
   ]
  },
  {
   "cell_type": "code",
   "execution_count": 10,
   "metadata": {},
   "outputs": [],
   "source": [
    "BATCH_SIZE = 64\n",
    "N_EPOCHS = 5\n",
    "MODEL_PATH = 'model.hdf5'"
   ]
  },
  {
   "cell_type": "code",
   "execution_count": 11,
   "metadata": {},
   "outputs": [
    {
     "name": "stdout",
     "output_type": "stream",
     "text": [
      "__________________________________________________________________________________________________\n",
      "Layer (type)                    Output Shape         Param #     Connected to                     \n",
      "==================================================================================================\n",
      "mfcc_input (InputLayer)         (None, 105, 20)      0                                            \n",
      "__________________________________________________________________________________________________\n",
      "fbank_input (InputLayer)        (None, 105, 128)     0                                            \n",
      "__________________________________________________________________________________________________\n",
      "lstm_1 (LSTM)                   (None, 105, 100)     48400       mfcc_input[0][0]                 \n",
      "__________________________________________________________________________________________________\n",
      "lstm_2 (LSTM)                   (None, 105, 100)     91600       fbank_input[0][0]                \n",
      "__________________________________________________________________________________________________\n",
      "concatenate_1 (Concatenate)     (None, 105, 200)     0           lstm_1[0][0]                     \n",
      "                                                                 lstm_2[0][0]                     \n",
      "__________________________________________________________________________________________________\n",
      "mfcc_output (TimeDistributed)   (None, 105, 1)       101         lstm_1[0][0]                     \n",
      "__________________________________________________________________________________________________\n",
      "all_output (TimeDistributed)    (None, 105, 1)       201         concatenate_1[0][0]              \n",
      "==================================================================================================\n",
      "Total params: 140,302\n",
      "Trainable params: 140,302\n",
      "Non-trainable params: 0\n",
      "__________________________________________________________________________________________________\n"
     ]
    }
   ],
   "source": [
    "# MFCC\n",
    "mfcc_input = Input(shape=(N_FRAMES, N_MFCC_FEATURES), name='mfcc_input')\n",
    "mfcc_lstm = LSTM(100, return_sequences=True)(mfcc_input)\n",
    "mfcc_output = TimeDistributed(Dense(1, activation='sigmoid'), name='mfcc_output')(mfcc_lstm)\n",
    "\n",
    "# FBANK\n",
    "fbank_input = Input(shape=(N_FRAMES, N_FBANK_FEATURES), name='fbank_input')\n",
    "fbank_lstm = LSTM(100, return_sequences=True)(fbank_input)\n",
    "all_lstm = concatenate([mfcc_lstm, fbank_lstm])\n",
    "all_output = TimeDistributed(Dense(1, activation='sigmoid'), name='all_output')(all_lstm)\n",
    "\n",
    "# Model\n",
    "model = Model(inputs=[mfcc_input, fbank_input], outputs=[mfcc_output, all_output])\n",
    "model.compile(optimizer='rmsprop', loss='binary_crossentropy', metrics=['binary_accuracy'],\n",
    "              loss_weights=[N_MFCC_FEATURES, N_FBANK_FEATURES + N_MFCC_FEATURES])\n",
    "model.summary()"
   ]
  },
  {
   "cell_type": "code",
   "execution_count": 12,
   "metadata": {},
   "outputs": [
    {
     "data": {
      "image/svg+xml": [
       "<svg height=\"264pt\" viewBox=\"0.00 0.00 522.00 264.00\" width=\"522pt\" xmlns=\"http://www.w3.org/2000/svg\" xmlns:xlink=\"http://www.w3.org/1999/xlink\">\n",
       "<g class=\"graph\" id=\"graph0\" transform=\"scale(1 1) rotate(0) translate(4 260)\">\n",
       "<title>G</title>\n",
       "<polygon fill=\"white\" points=\"-4,4 -4,-260 518,-260 518,4 -4,4\" stroke=\"none\"/>\n",
       "<!-- 47592491361896 -->\n",
       "<g class=\"node\" id=\"node1\"><title>47592491361896</title>\n",
       "<polygon fill=\"none\" points=\"104.5,-219.5 104.5,-255.5 250.5,-255.5 250.5,-219.5 104.5,-219.5\" stroke=\"black\"/>\n",
       "<text font-family=\"Times,serif\" font-size=\"14.00\" text-anchor=\"middle\" x=\"177.5\" y=\"-233.8\">mfcc_input: InputLayer</text>\n",
       "</g>\n",
       "<!-- 47592491361952 -->\n",
       "<g class=\"node\" id=\"node3\"><title>47592491361952</title>\n",
       "<polygon fill=\"none\" points=\"128.5,-146.5 128.5,-182.5 226.5,-182.5 226.5,-146.5 128.5,-146.5\" stroke=\"black\"/>\n",
       "<text font-family=\"Times,serif\" font-size=\"14.00\" text-anchor=\"middle\" x=\"177.5\" y=\"-160.8\">lstm_1: LSTM</text>\n",
       "</g>\n",
       "<!-- 47592491361896&#45;&gt;47592491361952 -->\n",
       "<g class=\"edge\" id=\"edge1\"><title>47592491361896-&gt;47592491361952</title>\n",
       "<path d=\"M177.5,-219.313C177.5,-211.289 177.5,-201.547 177.5,-192.569\" fill=\"none\" stroke=\"black\"/>\n",
       "<polygon fill=\"black\" points=\"181,-192.529 177.5,-182.529 174,-192.529 181,-192.529\" stroke=\"black\"/>\n",
       "</g>\n",
       "<!-- 47592491359928 -->\n",
       "<g class=\"node\" id=\"node2\"><title>47592491359928</title>\n",
       "<polygon fill=\"none\" points=\"307,-219.5 307,-255.5 456,-255.5 456,-219.5 307,-219.5\" stroke=\"black\"/>\n",
       "<text font-family=\"Times,serif\" font-size=\"14.00\" text-anchor=\"middle\" x=\"381.5\" y=\"-233.8\">fbank_input: InputLayer</text>\n",
       "</g>\n",
       "<!-- 47592491292936 -->\n",
       "<g class=\"node\" id=\"node4\"><title>47592491292936</title>\n",
       "<polygon fill=\"none\" points=\"332.5,-146.5 332.5,-182.5 430.5,-182.5 430.5,-146.5 332.5,-146.5\" stroke=\"black\"/>\n",
       "<text font-family=\"Times,serif\" font-size=\"14.00\" text-anchor=\"middle\" x=\"381.5\" y=\"-160.8\">lstm_2: LSTM</text>\n",
       "</g>\n",
       "<!-- 47592491359928&#45;&gt;47592491292936 -->\n",
       "<g class=\"edge\" id=\"edge2\"><title>47592491359928-&gt;47592491292936</title>\n",
       "<path d=\"M381.5,-219.313C381.5,-211.289 381.5,-201.547 381.5,-192.569\" fill=\"none\" stroke=\"black\"/>\n",
       "<polygon fill=\"black\" points=\"385,-192.529 381.5,-182.529 378,-192.529 385,-192.529\" stroke=\"black\"/>\n",
       "</g>\n",
       "<!-- 47592491254000 -->\n",
       "<g class=\"node\" id=\"node5\"><title>47592491254000</title>\n",
       "<polygon fill=\"none\" points=\"297.5,-73.5 297.5,-109.5 465.5,-109.5 465.5,-73.5 297.5,-73.5\" stroke=\"black\"/>\n",
       "<text font-family=\"Times,serif\" font-size=\"14.00\" text-anchor=\"middle\" x=\"381.5\" y=\"-87.8\">concatenate_1: Concatenate</text>\n",
       "</g>\n",
       "<!-- 47592491361952&#45;&gt;47592491254000 -->\n",
       "<g class=\"edge\" id=\"edge3\"><title>47592491361952-&gt;47592491254000</title>\n",
       "<path d=\"M226.363,-146.494C255.294,-136.425 292.137,-123.602 322.659,-112.979\" fill=\"none\" stroke=\"black\"/>\n",
       "<polygon fill=\"black\" points=\"324.035,-116.206 332.329,-109.614 321.734,-109.595 324.035,-116.206\" stroke=\"black\"/>\n",
       "</g>\n",
       "<!-- 47592491295688 -->\n",
       "<g class=\"node\" id=\"node6\"><title>47592491295688</title>\n",
       "<polygon fill=\"none\" points=\"0,-73.5 0,-109.5 279,-109.5 279,-73.5 0,-73.5\" stroke=\"black\"/>\n",
       "<text font-family=\"Times,serif\" font-size=\"14.00\" text-anchor=\"middle\" x=\"139.5\" y=\"-87.8\">mfcc_output(dense_1): TimeDistributed(Dense)</text>\n",
       "</g>\n",
       "<!-- 47592491361952&#45;&gt;47592491295688 -->\n",
       "<g class=\"edge\" id=\"edge5\"><title>47592491361952-&gt;47592491295688</title>\n",
       "<path d=\"M168.301,-146.313C163.82,-137.941 158.338,-127.697 153.363,-118.403\" fill=\"none\" stroke=\"black\"/>\n",
       "<polygon fill=\"black\" points=\"156.419,-116.694 148.614,-109.529 150.247,-119.997 156.419,-116.694\" stroke=\"black\"/>\n",
       "</g>\n",
       "<!-- 47592491292936&#45;&gt;47592491254000 -->\n",
       "<g class=\"edge\" id=\"edge4\"><title>47592491292936-&gt;47592491254000</title>\n",
       "<path d=\"M381.5,-146.313C381.5,-138.289 381.5,-128.547 381.5,-119.569\" fill=\"none\" stroke=\"black\"/>\n",
       "<polygon fill=\"black\" points=\"385,-119.529 381.5,-109.529 378,-119.529 385,-119.529\" stroke=\"black\"/>\n",
       "</g>\n",
       "<!-- 47592491180272 -->\n",
       "<g class=\"node\" id=\"node7\"><title>47592491180272</title>\n",
       "<polygon fill=\"none\" points=\"249,-0.5 249,-36.5 514,-36.5 514,-0.5 249,-0.5\" stroke=\"black\"/>\n",
       "<text font-family=\"Times,serif\" font-size=\"14.00\" text-anchor=\"middle\" x=\"381.5\" y=\"-14.8\">all_output(dense_2): TimeDistributed(Dense)</text>\n",
       "</g>\n",
       "<!-- 47592491254000&#45;&gt;47592491180272 -->\n",
       "<g class=\"edge\" id=\"edge6\"><title>47592491254000-&gt;47592491180272</title>\n",
       "<path d=\"M381.5,-73.3129C381.5,-65.2895 381.5,-55.5475 381.5,-46.5691\" fill=\"none\" stroke=\"black\"/>\n",
       "<polygon fill=\"black\" points=\"385,-46.5288 381.5,-36.5288 378,-46.5289 385,-46.5288\" stroke=\"black\"/>\n",
       "</g>\n",
       "</g>\n",
       "</svg>"
      ],
      "text/plain": [
       "<IPython.core.display.SVG object>"
      ]
     },
     "execution_count": 12,
     "metadata": {},
     "output_type": "execute_result"
    }
   ],
   "source": [
    "SVG(model_to_dot(model).create(prog='dot', format='svg'))"
   ]
  },
  {
   "cell_type": "code",
   "execution_count": 13,
   "metadata": {},
   "outputs": [
    {
     "name": "stdout",
     "output_type": "stream",
     "text": [
      "Train on 1969 samples, validate on 219 samples\n",
      "Epoch 1/5\n",
      "1969/1969 [==============================] - 7s 3ms/step - loss: 34.5536 - mfcc_output_loss: 0.2777 - all_output_loss: 0.1959 - mfcc_output_binary_accuracy: 0.9252 - all_output_binary_accuracy: 0.9333 - val_loss: 29.3155 - val_mfcc_output_loss: 0.2001 - val_all_output_loss: 0.1710 - val_mfcc_output_binary_accuracy: 0.9524 - val_all_output_binary_accuracy: 0.9524\n",
      "Epoch 2/5\n",
      "1969/1969 [==============================] - 6s 3ms/step - loss: 21.4953 - mfcc_output_loss: 0.1469 - all_output_loss: 0.1254 - mfcc_output_binary_accuracy: 0.9658 - all_output_binary_accuracy: 0.9661 - val_loss: 27.2868 - val_mfcc_output_loss: 0.1847 - val_all_output_loss: 0.1594 - val_mfcc_output_binary_accuracy: 0.9524 - val_all_output_binary_accuracy: 0.9534\n",
      "Epoch 3/5\n",
      "1969/1969 [==============================] - 6s 3ms/step - loss: 20.1865 - mfcc_output_loss: 0.1364 - all_output_loss: 0.1180 - mfcc_output_binary_accuracy: 0.9658 - all_output_binary_accuracy: 0.9669 - val_loss: 26.5035 - val_mfcc_output_loss: 0.1782 - val_all_output_loss: 0.1550 - val_mfcc_output_binary_accuracy: 0.9524 - val_all_output_binary_accuracy: 0.9541\n",
      "Epoch 4/5\n",
      "1969/1969 [==============================] - 6s 3ms/step - loss: 19.1879 - mfcc_output_loss: 0.1311 - all_output_loss: 0.1119 - mfcc_output_binary_accuracy: 0.9658 - all_output_binary_accuracy: 0.9678 - val_loss: 26.1478 - val_mfcc_output_loss: 0.1756 - val_all_output_loss: 0.1530 - val_mfcc_output_binary_accuracy: 0.9524 - val_all_output_binary_accuracy: 0.9545\n",
      "Epoch 5/5\n",
      "1969/1969 [==============================] - 6s 3ms/step - loss: 18.5079 - mfcc_output_loss: 0.1269 - all_output_loss: 0.1079 - mfcc_output_binary_accuracy: 0.9659 - all_output_binary_accuracy: 0.9684 - val_loss: 25.5845 - val_mfcc_output_loss: 0.1689 - val_all_output_loss: 0.1500 - val_mfcc_output_binary_accuracy: 0.9524 - val_all_output_binary_accuracy: 0.9543\n"
     ]
    }
   ],
   "source": [
    "model.fit(X_train, y_train, batch_size=BATCH_SIZE, epochs=N_EPOCHS, validation_split=0.1);"
   ]
  },
  {
   "cell_type": "code",
   "execution_count": 14,
   "metadata": {},
   "outputs": [],
   "source": [
    "model.save(MODEL_PATH)"
   ]
  },
  {
   "cell_type": "markdown",
   "metadata": {},
   "source": [
    "## Plots"
   ]
  },
  {
   "cell_type": "markdown",
   "metadata": {},
   "source": [
    "### `AU`c"
   ]
  },
  {
   "cell_type": "code",
   "execution_count": 15,
   "metadata": {},
   "outputs": [
    {
     "data": {
      "image/png": "[encoded data removed]",
      "text/plain": [
       "<Figure size 720x720 with 1 Axes>"
      ]
     },
     "metadata": {},
     "output_type": "display_data"
    }
   ],
   "source": [
    "y_pred = model.predict(X_test)[1]\n",
    "\n",
    "fpr, tpr, _ = roc_curve(y_test.ravel(), y_pred.ravel())\n",
    "roc_auc = auc(fpr, tpr)\n",
    "\n",
    "plt.figure(figsize=(10, 10))\n",
    "plt.plot(fpr, tpr, color='darkorange', lw=2, label='ROC curve (area = %0.2f)' % roc_auc)\n",
    "plt.plot([0, 1], [0, 1], color='navy', lw=3, linestyle='--')\n",
    "plt.xlim([-0.003, 1.0])\n",
    "plt.ylim([0.0, 1.003])\n",
    "plt.xlabel('False Positive Rate')\n",
    "plt.ylabel('True Positive Rate')\n",
    "plt.title('Receiver operating characteristic')\n",
    "plt.legend(loc=\"lower right\");"
   ]
  },
  {
   "cell_type": "markdown",
   "metadata": {},
   "source": [
    "### Couple of samples"
   ]
  },
  {
   "cell_type": "code",
   "execution_count": 16,
   "metadata": {},
   "outputs": [
    {
     "data": {
      "image/png": "[encoded data removed]",
      "text/plain": [
       "<Figure size 1440x360 with 3 Axes>"
      ]
     },
     "metadata": {},
     "output_type": "display_data"
    }
   ],
   "source": [
    "y_pred = model.predict(X_test)[1]\n",
    "plt.figure(figsize=(20, 5))\n",
    "for i, i_sname in enumerate(np.argsort(y_test[:, :, -1].mean(axis=1))[-3:]):\n",
    "    plt.subplot(131 + i)\n",
    "    plt.plot(np.arange(N_FRAMES), y_test[i_sname, :, -1], y_pred[i_sname, :, -1])"
   ]
  },
  {
   "cell_type": "markdown",
   "metadata": {},
   "source": [
    "## Predictor"
   ]
  },
  {
   "cell_type": "code",
   "execution_count": 17,
   "metadata": {},
   "outputs": [],
   "source": [
    "def predict(wav_path):\n",
    "    sname, df = sampler.cook(wav_path)\n",
    "    df.index = pd.MultiIndex.from_product([[sname], df.index], names=['sname', 'frame'])\n",
    "    X, _ = np_prepare(df)\n",
    "    y_pred = np.squeeze(model.predict(X)[1])\n",
    "    mask = y_pred >= 0.5\n",
    "    y_pred[mask], y_pred[np.invert(mask)] = 1, 0\n",
    "    y_pred = y_pred.astype(int).tolist()\n",
    "    return sampler.predicted_to_intervals(y_pred)"
   ]
  },
  {
   "cell_type": "code",
   "execution_count": 18,
   "metadata": {},
   "outputs": [
    {
     "data": {
      "text/plain": [
       "[]"
      ]
     },
     "execution_count": 18,
     "metadata": {},
     "output_type": "execute_result"
    }
   ],
   "source": [
    "predict(sample_wav_path)"
   ]
  }
 ],
 "metadata": {
  "kernelspec": {
   "display_name": "Python 3",
   "language": "python",
   "name": "python3"
  },
  "language_info": {
   "codemirror_mode": {
    "name": "ipython",
    "version": 3
   },
   "file_extension": ".py",
   "mimetype": "text/x-python",
   "name": "python",
   "nbconvert_exporter": "python",
   "pygments_lexer": "ipython3",
   "version": "3.6.4"
  }
 },
 "nbformat": 4,
 "nbformat_minor": 2
}
